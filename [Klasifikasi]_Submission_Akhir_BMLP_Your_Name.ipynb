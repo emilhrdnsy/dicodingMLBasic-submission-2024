{
 "cells": [
  {
   "cell_type": "markdown",
   "metadata": {
    "id": "fKADPWcFKlj3"
   },
   "source": [
    "# **1. Import Library**"
   ]
  },
  {
   "cell_type": "markdown",
   "metadata": {
    "id": "LgA3ERnVn84N"
   },
   "source": [
    "Pada tahap ini, Anda perlu mengimpor beberapa pustaka (library) Python yang dibutuhkan untuk analisis data dan pembangunan model machine learning."
   ]
  },
  {
   "cell_type": "code",
   "execution_count": 1,
   "metadata": {
    "ExecuteTime": {
     "end_time": "2024-12-23T09:09:14.725050Z",
     "start_time": "2024-12-23T09:09:12.403300Z"
    },
    "id": "BlmvjLY9M4Yj"
   },
   "outputs": [],
   "source": [
    "import pandas as pd\n",
    "import numpy as np\n",
    "from sklearn.model_selection import train_test_split\n",
    "from sklearn.preprocessing import StandardScaler\n",
    "from sklearn.neighbors import KNeighborsClassifier\n",
    "# from sklearn.metrics import accuracy_score, classification_report, confusion_matrix, ConfusionMatrixDisplay\n",
    "from sklearn.metrics import accuracy_score, f1_score, precision_score, recall_score, classification_report, confusion_matrix, ConfusionMatrixDisplay\n",
    "import matplotlib.pyplot as plt"
   ]
  },
  {
   "cell_type": "markdown",
   "metadata": {
    "id": "f3YIEnAFKrKL"
   },
   "source": [
    "# **2. Memuat Dataset dari Hasil Clustering**"
   ]
  },
  {
   "cell_type": "markdown",
   "metadata": {
    "id": "Ey3ItwTen_7E"
   },
   "source": [
    "Memuat dataset hasil clustering dari file CSV ke dalam variabel DataFrame."
   ]
  },
  {
   "cell_type": "code",
   "execution_count": 2,
   "metadata": {
    "ExecuteTime": {
     "end_time": "2024-12-23T09:09:14.931182Z",
     "start_time": "2024-12-23T09:09:14.725050Z"
    },
    "id": "GHCGNTyrM5fS"
   },
   "outputs": [
    {
     "data": {
      "text/html": [
       "<div>\n",
       "<style scoped>\n",
       "    .dataframe tbody tr th:only-of-type {\n",
       "        vertical-align: middle;\n",
       "    }\n",
       "\n",
       "    .dataframe tbody tr th {\n",
       "        vertical-align: top;\n",
       "    }\n",
       "\n",
       "    .dataframe thead th {\n",
       "        text-align: right;\n",
       "    }\n",
       "</style>\n",
       "<table border=\"1\" class=\"dataframe\">\n",
       "  <thead>\n",
       "    <tr style=\"text-align: right;\">\n",
       "      <th></th>\n",
       "      <th>ID_</th>\n",
       "      <th>Year_Birth</th>\n",
       "      <th>Education</th>\n",
       "      <th>Marital_Status</th>\n",
       "      <th>Income</th>\n",
       "      <th>Kidhome</th>\n",
       "      <th>Teenhome</th>\n",
       "      <th>Recency</th>\n",
       "      <th>MntWines</th>\n",
       "      <th>MntFruits</th>\n",
       "      <th>MntMeatProducts</th>\n",
       "      <th>MntFishProducts</th>\n",
       "      <th>MntSweetProducts</th>\n",
       "      <th>MntGoldProds</th>\n",
       "      <th>NumDealsPurchases</th>\n",
       "      <th>NumWebPurchases</th>\n",
       "      <th>NumCatalogPurchases</th>\n",
       "      <th>NumStorePurchases</th>\n",
       "      <th>NumWebVisitsMonth</th>\n",
       "      <th>AcceptedCmp3</th>\n",
       "      <th>AcceptedCmp4</th>\n",
       "      <th>AcceptedCmp5</th>\n",
       "      <th>AcceptedCmp1</th>\n",
       "      <th>AcceptedCmp2</th>\n",
       "      <th>Complain</th>\n",
       "      <th>Z_CostContact</th>\n",
       "      <th>Z_Revenue</th>\n",
       "      <th>Response</th>\n",
       "      <th>Clusters</th>\n",
       "    </tr>\n",
       "  </thead>\n",
       "  <tbody>\n",
       "    <tr>\n",
       "      <th>0</th>\n",
       "      <td>-0.019809</td>\n",
       "      <td>-0.986443</td>\n",
       "      <td>-0.350527</td>\n",
       "      <td>0.254218</td>\n",
       "      <td>0.234063</td>\n",
       "      <td>-0.823039</td>\n",
       "      <td>-0.928972</td>\n",
       "      <td>0.310532</td>\n",
       "      <td>0.978226</td>\n",
       "      <td>1.549429</td>\n",
       "      <td>1.690227</td>\n",
       "      <td>2.454568</td>\n",
       "      <td>1.484827</td>\n",
       "      <td>0.850031</td>\n",
       "      <td>0.351713</td>\n",
       "      <td>1.428553</td>\n",
       "      <td>2.504712</td>\n",
       "      <td>-0.554143</td>\n",
       "      <td>0.693232</td>\n",
       "      <td>-0.281773</td>\n",
       "      <td>-0.282705</td>\n",
       "      <td>-0.280839</td>\n",
       "      <td>-0.261661</td>\n",
       "      <td>-0.117148</td>\n",
       "      <td>-0.097812</td>\n",
       "      <td>0.0</td>\n",
       "      <td>0.0</td>\n",
       "      <td>2.377952</td>\n",
       "      <td>2</td>\n",
       "    </tr>\n",
       "    <tr>\n",
       "      <th>1</th>\n",
       "      <td>-1.051009</td>\n",
       "      <td>-1.236801</td>\n",
       "      <td>-0.350527</td>\n",
       "      <td>0.254218</td>\n",
       "      <td>-0.234559</td>\n",
       "      <td>1.039938</td>\n",
       "      <td>0.909066</td>\n",
       "      <td>-0.380509</td>\n",
       "      <td>-0.872024</td>\n",
       "      <td>-0.637328</td>\n",
       "      <td>-0.717986</td>\n",
       "      <td>-0.651038</td>\n",
       "      <td>-0.633880</td>\n",
       "      <td>-0.732867</td>\n",
       "      <td>-0.168231</td>\n",
       "      <td>-1.125881</td>\n",
       "      <td>-0.571082</td>\n",
       "      <td>-1.169518</td>\n",
       "      <td>-0.131574</td>\n",
       "      <td>-0.281773</td>\n",
       "      <td>-0.282705</td>\n",
       "      <td>-0.280839</td>\n",
       "      <td>-0.261661</td>\n",
       "      <td>-0.117148</td>\n",
       "      <td>-0.097812</td>\n",
       "      <td>0.0</td>\n",
       "      <td>0.0</td>\n",
       "      <td>-0.420530</td>\n",
       "      <td>0</td>\n",
       "    </tr>\n",
       "    <tr>\n",
       "      <th>2</th>\n",
       "      <td>-0.445526</td>\n",
       "      <td>-0.318822</td>\n",
       "      <td>-0.350527</td>\n",
       "      <td>1.182303</td>\n",
       "      <td>0.769478</td>\n",
       "      <td>-0.823039</td>\n",
       "      <td>-0.928972</td>\n",
       "      <td>-0.795134</td>\n",
       "      <td>0.358511</td>\n",
       "      <td>0.569159</td>\n",
       "      <td>-0.178368</td>\n",
       "      <td>1.340203</td>\n",
       "      <td>-0.146821</td>\n",
       "      <td>-0.037937</td>\n",
       "      <td>-0.688176</td>\n",
       "      <td>1.428553</td>\n",
       "      <td>-0.229327</td>\n",
       "      <td>1.291982</td>\n",
       "      <td>-0.543978</td>\n",
       "      <td>-0.281773</td>\n",
       "      <td>-0.282705</td>\n",
       "      <td>-0.280839</td>\n",
       "      <td>-0.261661</td>\n",
       "      <td>-0.117148</td>\n",
       "      <td>-0.097812</td>\n",
       "      <td>0.0</td>\n",
       "      <td>0.0</td>\n",
       "      <td>-0.420530</td>\n",
       "      <td>2</td>\n",
       "    </tr>\n",
       "    <tr>\n",
       "      <th>3</th>\n",
       "      <td>0.182737</td>\n",
       "      <td>1.266777</td>\n",
       "      <td>-0.350527</td>\n",
       "      <td>1.182303</td>\n",
       "      <td>-1.017239</td>\n",
       "      <td>1.039938</td>\n",
       "      <td>-0.928972</td>\n",
       "      <td>-0.795134</td>\n",
       "      <td>-0.872024</td>\n",
       "      <td>-0.561922</td>\n",
       "      <td>-0.655551</td>\n",
       "      <td>-0.504892</td>\n",
       "      <td>-0.585174</td>\n",
       "      <td>-0.752171</td>\n",
       "      <td>-0.168231</td>\n",
       "      <td>-0.760962</td>\n",
       "      <td>-0.912837</td>\n",
       "      <td>-0.554143</td>\n",
       "      <td>0.280829</td>\n",
       "      <td>-0.281773</td>\n",
       "      <td>-0.282705</td>\n",
       "      <td>-0.280839</td>\n",
       "      <td>-0.261661</td>\n",
       "      <td>-0.117148</td>\n",
       "      <td>-0.097812</td>\n",
       "      <td>0.0</td>\n",
       "      <td>0.0</td>\n",
       "      <td>-0.420530</td>\n",
       "      <td>0</td>\n",
       "    </tr>\n",
       "    <tr>\n",
       "      <th>4</th>\n",
       "      <td>-0.081373</td>\n",
       "      <td>1.016420</td>\n",
       "      <td>1.429011</td>\n",
       "      <td>-0.673866</td>\n",
       "      <td>0.240221</td>\n",
       "      <td>1.039938</td>\n",
       "      <td>-0.928972</td>\n",
       "      <td>1.554407</td>\n",
       "      <td>-0.391671</td>\n",
       "      <td>0.418348</td>\n",
       "      <td>-0.218505</td>\n",
       "      <td>0.152766</td>\n",
       "      <td>-0.000703</td>\n",
       "      <td>-0.559135</td>\n",
       "      <td>1.391603</td>\n",
       "      <td>0.333796</td>\n",
       "      <td>0.112428</td>\n",
       "      <td>0.061232</td>\n",
       "      <td>-0.131574</td>\n",
       "      <td>-0.281773</td>\n",
       "      <td>-0.282705</td>\n",
       "      <td>-0.280839</td>\n",
       "      <td>-0.261661</td>\n",
       "      <td>-0.117148</td>\n",
       "      <td>-0.097812</td>\n",
       "      <td>0.0</td>\n",
       "      <td>0.0</td>\n",
       "      <td>-0.420530</td>\n",
       "      <td>1</td>\n",
       "    </tr>\n",
       "    <tr>\n",
       "      <th>...</th>\n",
       "      <td>...</td>\n",
       "      <td>...</td>\n",
       "      <td>...</td>\n",
       "      <td>...</td>\n",
       "      <td>...</td>\n",
       "      <td>...</td>\n",
       "      <td>...</td>\n",
       "      <td>...</td>\n",
       "      <td>...</td>\n",
       "      <td>...</td>\n",
       "      <td>...</td>\n",
       "      <td>...</td>\n",
       "      <td>...</td>\n",
       "      <td>...</td>\n",
       "      <td>...</td>\n",
       "      <td>...</td>\n",
       "      <td>...</td>\n",
       "      <td>...</td>\n",
       "      <td>...</td>\n",
       "      <td>...</td>\n",
       "      <td>...</td>\n",
       "      <td>...</td>\n",
       "      <td>...</td>\n",
       "      <td>...</td>\n",
       "      <td>...</td>\n",
       "      <td>...</td>\n",
       "      <td>...</td>\n",
       "      <td>...</td>\n",
       "      <td>...</td>\n",
       "    </tr>\n",
       "    <tr>\n",
       "      <th>2211</th>\n",
       "      <td>1.625801</td>\n",
       "      <td>-0.151917</td>\n",
       "      <td>-0.350527</td>\n",
       "      <td>-0.673866</td>\n",
       "      <td>0.356642</td>\n",
       "      <td>-0.823039</td>\n",
       "      <td>0.909066</td>\n",
       "      <td>-0.104093</td>\n",
       "      <td>1.197646</td>\n",
       "      <td>0.418348</td>\n",
       "      <td>0.066913</td>\n",
       "      <td>0.079693</td>\n",
       "      <td>2.215416</td>\n",
       "      <td>3.919308</td>\n",
       "      <td>-0.168231</td>\n",
       "      <td>1.793473</td>\n",
       "      <td>0.112428</td>\n",
       "      <td>-0.554143</td>\n",
       "      <td>-0.131574</td>\n",
       "      <td>-0.281773</td>\n",
       "      <td>-0.282705</td>\n",
       "      <td>-0.280839</td>\n",
       "      <td>-0.261661</td>\n",
       "      <td>-0.117148</td>\n",
       "      <td>-0.097812</td>\n",
       "      <td>0.0</td>\n",
       "      <td>0.0</td>\n",
       "      <td>-0.420530</td>\n",
       "      <td>2</td>\n",
       "    </tr>\n",
       "    <tr>\n",
       "      <th>2212</th>\n",
       "      <td>-0.488620</td>\n",
       "      <td>-1.904422</td>\n",
       "      <td>1.429011</td>\n",
       "      <td>1.182303</td>\n",
       "      <td>0.467539</td>\n",
       "      <td>2.902916</td>\n",
       "      <td>0.909066</td>\n",
       "      <td>0.241428</td>\n",
       "      <td>0.299208</td>\n",
       "      <td>-0.662463</td>\n",
       "      <td>-0.610954</td>\n",
       "      <td>-0.687574</td>\n",
       "      <td>-0.658233</td>\n",
       "      <td>-0.694260</td>\n",
       "      <td>2.431492</td>\n",
       "      <td>1.428553</td>\n",
       "      <td>-0.229327</td>\n",
       "      <td>-0.246455</td>\n",
       "      <td>0.693232</td>\n",
       "      <td>-0.281773</td>\n",
       "      <td>-0.282705</td>\n",
       "      <td>-0.280839</td>\n",
       "      <td>3.821732</td>\n",
       "      <td>-0.117148</td>\n",
       "      <td>-0.097812</td>\n",
       "      <td>0.0</td>\n",
       "      <td>0.0</td>\n",
       "      <td>-0.420530</td>\n",
       "      <td>1</td>\n",
       "    </tr>\n",
       "    <tr>\n",
       "      <th>2213</th>\n",
       "      <td>0.517646</td>\n",
       "      <td>1.016420</td>\n",
       "      <td>-0.350527</td>\n",
       "      <td>-1.601951</td>\n",
       "      <td>0.188091</td>\n",
       "      <td>-0.823039</td>\n",
       "      <td>-0.928972</td>\n",
       "      <td>1.450751</td>\n",
       "      <td>1.787710</td>\n",
       "      <td>0.544024</td>\n",
       "      <td>0.223001</td>\n",
       "      <td>-0.102990</td>\n",
       "      <td>-0.365998</td>\n",
       "      <td>-0.385402</td>\n",
       "      <td>-0.688176</td>\n",
       "      <td>-0.760962</td>\n",
       "      <td>0.112428</td>\n",
       "      <td>2.215044</td>\n",
       "      <td>0.280829</td>\n",
       "      <td>-0.281773</td>\n",
       "      <td>3.537258</td>\n",
       "      <td>-0.280839</td>\n",
       "      <td>-0.261661</td>\n",
       "      <td>-0.117148</td>\n",
       "      <td>-0.097812</td>\n",
       "      <td>0.0</td>\n",
       "      <td>0.0</td>\n",
       "      <td>-0.420530</td>\n",
       "      <td>1</td>\n",
       "    </tr>\n",
       "    <tr>\n",
       "      <th>2214</th>\n",
       "      <td>0.814693</td>\n",
       "      <td>-1.069896</td>\n",
       "      <td>0.539242</td>\n",
       "      <td>1.182303</td>\n",
       "      <td>0.675388</td>\n",
       "      <td>-0.823039</td>\n",
       "      <td>0.909066</td>\n",
       "      <td>-1.417072</td>\n",
       "      <td>0.364441</td>\n",
       "      <td>0.091591</td>\n",
       "      <td>0.209622</td>\n",
       "      <td>0.773887</td>\n",
       "      <td>0.072356</td>\n",
       "      <td>0.328832</td>\n",
       "      <td>-0.168231</td>\n",
       "      <td>0.698715</td>\n",
       "      <td>0.795937</td>\n",
       "      <td>1.291982</td>\n",
       "      <td>-0.956381</td>\n",
       "      <td>-0.281773</td>\n",
       "      <td>-0.282705</td>\n",
       "      <td>-0.280839</td>\n",
       "      <td>-0.261661</td>\n",
       "      <td>-0.117148</td>\n",
       "      <td>-0.097812</td>\n",
       "      <td>0.0</td>\n",
       "      <td>0.0</td>\n",
       "      <td>-0.420530</td>\n",
       "      <td>1</td>\n",
       "    </tr>\n",
       "    <tr>\n",
       "      <th>2215</th>\n",
       "      <td>1.174843</td>\n",
       "      <td>-1.236801</td>\n",
       "      <td>1.429011</td>\n",
       "      <td>-0.673866</td>\n",
       "      <td>0.024705</td>\n",
       "      <td>1.039938</td>\n",
       "      <td>0.909066</td>\n",
       "      <td>-0.311405</td>\n",
       "      <td>-0.655568</td>\n",
       "      <td>-0.587058</td>\n",
       "      <td>-0.472705</td>\n",
       "      <td>-0.651038</td>\n",
       "      <td>-0.633880</td>\n",
       "      <td>-0.443313</td>\n",
       "      <td>0.351713</td>\n",
       "      <td>-0.396043</td>\n",
       "      <td>-0.571082</td>\n",
       "      <td>-0.554143</td>\n",
       "      <td>0.693232</td>\n",
       "      <td>-0.281773</td>\n",
       "      <td>-0.282705</td>\n",
       "      <td>-0.280839</td>\n",
       "      <td>-0.261661</td>\n",
       "      <td>-0.117148</td>\n",
       "      <td>-0.097812</td>\n",
       "      <td>0.0</td>\n",
       "      <td>0.0</td>\n",
       "      <td>2.377952</td>\n",
       "      <td>0</td>\n",
       "    </tr>\n",
       "  </tbody>\n",
       "</table>\n",
       "<p>2216 rows × 29 columns</p>\n",
       "</div>"
      ],
      "text/plain": [
       "           ID_  Year_Birth  Education  Marital_Status    Income  ...  Complain  Z_CostContact  Z_Revenue  Response  Clusters\n",
       "0    -0.019809   -0.986443  -0.350527        0.254218  0.234063  ... -0.097812            0.0        0.0  2.377952         2\n",
       "1    -1.051009   -1.236801  -0.350527        0.254218 -0.234559  ... -0.097812            0.0        0.0 -0.420530         0\n",
       "2    -0.445526   -0.318822  -0.350527        1.182303  0.769478  ... -0.097812            0.0        0.0 -0.420530         2\n",
       "3     0.182737    1.266777  -0.350527        1.182303 -1.017239  ... -0.097812            0.0        0.0 -0.420530         0\n",
       "4    -0.081373    1.016420   1.429011       -0.673866  0.240221  ... -0.097812            0.0        0.0 -0.420530         1\n",
       "...        ...         ...        ...             ...       ...  ...       ...            ...        ...       ...       ...\n",
       "2211  1.625801   -0.151917  -0.350527       -0.673866  0.356642  ... -0.097812            0.0        0.0 -0.420530         2\n",
       "2212 -0.488620   -1.904422   1.429011        1.182303  0.467539  ... -0.097812            0.0        0.0 -0.420530         1\n",
       "2213  0.517646    1.016420  -0.350527       -1.601951  0.188091  ... -0.097812            0.0        0.0 -0.420530         1\n",
       "2214  0.814693   -1.069896   0.539242        1.182303  0.675388  ... -0.097812            0.0        0.0 -0.420530         1\n",
       "2215  1.174843   -1.236801   1.429011       -0.673866  0.024705  ... -0.097812            0.0        0.0  2.377952         0\n",
       "\n",
       "[2216 rows x 29 columns]"
      ]
     },
     "execution_count": 2,
     "metadata": {},
     "output_type": "execute_result"
    }
   ],
   "source": [
    "df= pd.DataFrame(pd.read_csv(\"C:/Users/ASUS/JupyterNotebook/Machine Learning/Dicoding/data_output.csv\"))\n",
    "df"
   ]
  },
  {
   "cell_type": "markdown",
   "metadata": {
    "id": "KkPem5eWL2UP"
   },
   "source": [
    "# **3. Data Splitting**"
   ]
  },
  {
   "cell_type": "markdown",
   "metadata": {
    "id": "YYj1rl_JNI9Y"
   },
   "source": [
    "Tahap Data Splitting bertujuan untuk memisahkan dataset menjadi dua bagian: data latih (training set) dan data uji (test set)."
   ]
  },
  {
   "cell_type": "code",
   "execution_count": 3,
   "metadata": {
    "ExecuteTime": {
     "end_time": "2024-12-23T09:09:14.978812Z",
     "start_time": "2024-12-23T09:09:14.944335Z"
    },
    "id": "OubAW-7ONKVj"
   },
   "outputs": [],
   "source": [
    "X = df.drop(columns=['Clusters'])\n",
    "y = df['Clusters']\n",
    "\n",
    "# 3. Split data menjadi training dan testing\n",
    "X_train, X_test, y_train, y_test = train_test_split(X, y, test_size=0.2, random_state=42)"
   ]
  },
  {
   "cell_type": "markdown",
   "metadata": {
    "id": "IVPbB03CMhTT"
   },
   "source": [
    "# **4. Membangun Model Klasifikasi**\n"
   ]
  },
  {
   "cell_type": "markdown",
   "metadata": {
    "id": "Ned1pL9zMmBK"
   },
   "source": [
    "## **a. Membangun Model Klasifikasi**"
   ]
  },
  {
   "cell_type": "markdown",
   "metadata": {
    "id": "WAWzPOE4Nkti"
   },
   "source": [
    "Setelah memilih algoritma klasifikasi yang sesuai, langkah selanjutnya adalah melatih model menggunakan data latih.\n",
    "\n",
    "Berikut adalah rekomendasi tahapannya.\n",
    "1. Pilih algoritma klasifikasi yang sesuai, seperti Logistic Regression, Decision Tree, Random Forest, atau K-Nearest Neighbors (KNN).\n",
    "2. Latih model menggunakan data latih."
   ]
  },
  {
   "cell_type": "code",
   "execution_count": 4,
   "metadata": {
    "ExecuteTime": {
     "end_time": "2024-12-23T09:09:15.451195Z",
     "start_time": "2024-12-23T09:09:14.978812Z"
    },
    "id": "4JYxBe87NLDk"
   },
   "outputs": [],
   "source": [
    "# 4. Standarisasi data\n",
    "scaler = StandardScaler()\n",
    "X_train_scaled = scaler.fit_transform(X_train)\n",
    "X_test_scaled = scaler.transform(X_test)\n",
    "\n",
    "# 5. Inisialisasi model KNN\n",
    "k = 5  # Jumlah tetangga\n",
    "knn = KNeighborsClassifier(n_neighbors=k)\n",
    "\n",
    "# 6. Latih model\n",
    "knn.fit(X_train_scaled, y_train)\n",
    "\n",
    "# 7. Prediksi pada data testing\n",
    "y_pred = knn.predict(X_test_scaled)"
   ]
  },
  {
   "cell_type": "markdown",
   "metadata": {
    "id": "seYoHNY3XU1y"
   },
   "source": [
    "Tulis narasi atau penjelasan algoritma yang Anda gunakan."
   ]
  },
  {
   "cell_type": "markdown",
   "metadata": {
    "id": "ergzChZFEL-O"
   },
   "source": [
    "## **b. Evaluasi Model Klasifikasi**"
   ]
  },
  {
   "cell_type": "markdown",
   "metadata": {
    "id": "zOm68u-7NpLT"
   },
   "source": [
    "Berikut adalah **rekomendasi** tahapannya.\n",
    "1. Lakukan prediksi menggunakan data uji.\n",
    "2. Hitung metrik evaluasi seperti Accuracy dan F1-Score (Opsional: Precision dan Recall).\n",
    "3. Buat confusion matrix untuk melihat detail prediksi benar dan salah."
   ]
  },
  {
   "cell_type": "code",
   "execution_count": 12,
   "metadata": {
    "ExecuteTime": {
     "end_time": "2024-12-23T09:11:36.680262Z",
     "start_time": "2024-12-23T09:11:36.318253Z"
    },
    "id": "tMq4QAssNLip",
    "scrolled": false
   },
   "outputs": [
    {
     "name": "stdout",
     "output_type": "stream",
     "text": [
      "Accuracy: 0.92\n",
      "F1-Score: 0.92\n",
      "Precision: 0.92\n",
      "Recall: 0.92\n",
      "\n",
      "Classification Report:\n",
      "              precision    recall  f1-score   support\n",
      "\n",
      "           0       0.95      0.98      0.96       205\n",
      "           1       0.85      0.87      0.86       106\n",
      "           2       0.92      0.91      0.92       108\n",
      "           3       0.94      0.68      0.79        25\n",
      "\n",
      "    accuracy                           0.92       444\n",
      "   macro avg       0.92      0.86      0.88       444\n",
      "weighted avg       0.92      0.92      0.92       444\n",
      "\n",
      "\n",
      "Confusion Matrix:\n",
      "[[201   4   0   0]\n",
      " [ 11  92   2   1]\n",
      " [  0  10  98   0]\n",
      " [  0   2   6  17]]\n"
     ]
    },
    {
     "data": {
      "text/plain": [
       "<Figure size 800x600 with 0 Axes>"
      ]
     },
     "metadata": {},
     "output_type": "display_data"
    },
    {
     "data": {
      "image/png": "[encoded data removed]",
      "text/plain": [
       "<Figure size 640x480 with 2 Axes>"
      ]
     },
     "metadata": {},
     "output_type": "display_data"
    }
   ],
   "source": [
    "def calculate_metrics(y_test, y_pred):\n",
    "    \"\"\"\n",
    "    Menghitung metrik evaluasi seperti Accuracy, F1-Score, Precision, dan Recall.\n",
    "\n",
    "    Parameters:\n",
    "    y_true (list atau numpy array): Label sebenarnya\n",
    "    y_pred (list atau numpy array): Prediksi model\n",
    "\n",
    "    Returns:\n",
    "    dict: Dictionary berisi nilai metrik\n",
    "    \"\"\"\n",
    "    metrics = {\n",
    "        \"Accuracy\": accuracy_score(y_test, y_pred),\n",
    "        \"F1-Score\": f1_score(y_test, y_pred, average='weighted'),\n",
    "        \"Precision\": precision_score(y_test, y_pred, average='weighted'),\n",
    "        \"Recall\": recall_score(y_test, y_pred, average='weighted')\n",
    "    }\n",
    "    return metrics\n",
    "\n",
    "metrics = calculate_metrics(y_test, y_pred)\n",
    "\n",
    "# Tampilkan hasil\n",
    "for metric_name, value in metrics.items():\n",
    "    print(f\"{metric_name}: {value:.2f}\")\n",
    "\n",
    "print(\"\\nClassification Report:\")\n",
    "print(classification_report(y_test, y_pred))\n",
    "\n",
    "print(\"\\nConfusion Matrix:\")\n",
    "cm = confusion_matrix(y_test, y_pred)\n",
    "print(cm)\n",
    "\n",
    "plt.figure(figsize=(8, 6))\n",
    "disp = ConfusionMatrixDisplay(confusion_matrix=cm, display_labels=knn.classes_)\n",
    "disp.plot(cmap='Blues', values_format='d')\n",
    "plt.title(\"Confusion Matrix\")\n",
    "plt.show()"
   ]
  },
  {
   "cell_type": "markdown",
   "metadata": {
    "id": "H4_9OwrsXZlz"
   },
   "source": [
    "Tulis hasil evaluasi algoritma yang digunakan, jika Anda menggunakan 2 algoritma, maka bandingkan hasilnya."
   ]
  },
  {
   "cell_type": "markdown",
   "metadata": {
    "id": "ph9yIYDXEPuB"
   },
   "source": [
    "## **c. Tuning Model Klasifikasi (Optional)**"
   ]
  },
  {
   "cell_type": "markdown",
   "metadata": {
    "id": "-Bikx3LINv5e"
   },
   "source": [
    "Gunakan GridSearchCV, RandomizedSearchCV, atau metode lainnya untuk mencari kombinasi hyperparameter terbaik"
   ]
  },
  {
   "cell_type": "code",
   "execution_count": 6,
   "metadata": {
    "ExecuteTime": {
     "end_time": "2024-12-23T09:09:15.545282Z",
     "start_time": "2024-12-23T09:09:15.520112Z"
    },
    "id": "winbFzb8NL95"
   },
   "outputs": [],
   "source": [
    "#Type your code here"
   ]
  },
  {
   "cell_type": "markdown",
   "metadata": {
    "id": "hE7pqlEPEYzI"
   },
   "source": [
    "## **d. Evaluasi Model Klasifikasi setelah Tuning (Optional)**"
   ]
  },
  {
   "cell_type": "markdown",
   "metadata": {
    "id": "feaPESoeN0zz"
   },
   "source": [
    "Berikut adalah rekomendasi tahapannya.\n",
    "1. Gunakan model dengan hyperparameter terbaik.\n",
    "2. Hitung ulang metrik evaluasi untuk melihat apakah ada peningkatan performa."
   ]
  },
  {
   "cell_type": "code",
   "execution_count": 7,
   "metadata": {
    "ExecuteTime": {
     "end_time": "2024-12-23T09:09:15.560921Z",
     "start_time": "2024-12-23T09:09:15.545282Z"
    },
    "id": "HTXZRvEeNMb1"
   },
   "outputs": [],
   "source": [
    "#Type your code here"
   ]
  },
  {
   "cell_type": "markdown",
   "metadata": {
    "id": "ZRsOdm4uEgAW"
   },
   "source": [
    "## **e. Analisis Hasil Evaluasi Model Klasifikasi**"
   ]
  },
  {
   "cell_type": "markdown",
   "metadata": {
    "id": "Hm3BhSi6N4_l"
   },
   "source": [
    "Berikut adalah **rekomendasi** tahapannya.\n",
    "1. Bandingkan hasil evaluasi sebelum dan setelah tuning (jika dilakukan).\n",
    "2. Identifikasi kelemahan model, seperti:\n",
    "  - Precision atau Recall rendah untuk kelas tertentu.\n",
    "  - Apakah model mengalami overfitting atau underfitting?\n",
    "3. Berikan rekomendasi tindakan lanjutan, seperti mengumpulkan data tambahan atau mencoba algoritma lain jika hasil belum memuaskan. \n"
   ]
  },
  {
   "cell_type": "markdown",
   "metadata": {},
   "source": [
    "3. Perbaikan Model:<br>\n",
    "Mencoba algoritma klasifikasi lain yang lebih kompleks atau lebih sesuai dengan data (misalnya, SVM, ensemble methods)."
   ]
  }
 ],
 "metadata": {
  "colab": {
   "provenance": []
  },
  "kernelspec": {
   "display_name": "Python 3 (ipykernel)",
   "language": "python",
   "name": "python3"
  },
  "language_info": {
   "codemirror_mode": {
    "name": "ipython",
    "version": 3
   },
   "file_extension": ".py",
   "mimetype": "text/x-python",
   "name": "python",
   "nbconvert_exporter": "python",
   "pygments_lexer": "ipython3",
   "version": "3.9.13"
  }
 },
 "nbformat": 4,
 "nbformat_minor": 1
}
